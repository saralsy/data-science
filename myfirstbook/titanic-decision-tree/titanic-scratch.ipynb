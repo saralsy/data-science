{
 "cells": [
  {
   "cell_type": "raw",
   "metadata": {
    "vscode": {
     "languageId": "raw"
    }
   },
   "source": [
    "# Titanic Survival Prediction\n",
    "\n",
    "This notebook analyzes the Titanic dataset to predict passenger survival using machine learning techniques.\n",
    "\n",
    "## Objective\n",
    "- Train a model using the training data to predict survival\n",
    "- Generate predictions for the test dataset\n",
    "- Create a submission file with PassengerId and Survived columns\n"
   ]
  },
  {
   "cell_type": "code",
   "execution_count": 62,
   "id": "f46dd636",
   "metadata": {},
   "outputs": [],
   "source": [
    "# Import necessary libraries\n",
    "import pandas as pd\n",
    "import numpy as np\n",
    "import matplotlib.pyplot as plt\n",
    "import seaborn as sns\n",
    "from sklearn.model_selection import train_test_split, cross_val_score, GridSearchCV\n",
    "from sklearn.ensemble import RandomForestClassifier, GradientBoostingClassifier\n",
    "from sklearn.linear_model import LogisticRegression\n",
    "from sklearn.metrics import accuracy_score, classification_report, confusion_matrix\n",
    "from sklearn.preprocessing import LabelEncoder, StandardScaler\n",
    "import warnings\n",
    "warnings.filterwarnings('ignore')\n",
    "\n",
    "# Set display options\n",
    "pd.set_option('display.max_columns', None)\n",
    "plt.style.use('default')\n",
    "sns.set_palette(\"husl\")\n"
   ]
  },
  {
   "cell_type": "raw",
   "metadata": {
    "vscode": {
     "languageId": "raw"
    }
   },
   "source": [
    "## 1. Data Loading and Exploration\n"
   ]
  },
  {
   "cell_type": "code",
   "execution_count": 63,
   "id": "6b094264",
   "metadata": {},
   "outputs": [
    {
     "name": "stdout",
     "output_type": "stream",
     "text": [
      "Training data shape: (891, 12)\n",
      "Test data shape: (418, 11)\n",
      "\n",
      "First few rows of training data:\n",
      "   PassengerId  Survived  Pclass  \\\n",
      "0            1         0       3   \n",
      "1            2         1       1   \n",
      "2            3         1       3   \n",
      "3            4         1       1   \n",
      "4            5         0       3   \n",
      "\n",
      "                                                Name     Sex   Age  SibSp  \\\n",
      "0                            Braund, Mr. Owen Harris    male  22.0      1   \n",
      "1  Cumings, Mrs. John Bradley (Florence Briggs Th...  female  38.0      1   \n",
      "2                             Heikkinen, Miss. Laina  female  26.0      0   \n",
      "3       Futrelle, Mrs. Jacques Heath (Lily May Peel)  female  35.0      1   \n",
      "4                           Allen, Mr. William Henry    male  35.0      0   \n",
      "\n",
      "   Parch            Ticket     Fare Cabin Embarked  \n",
      "0      0         A/5 21171   7.2500   NaN        S  \n",
      "1      0          PC 17599  71.2833   C85        C  \n",
      "2      0  STON/O2. 3101282   7.9250   NaN        S  \n",
      "3      0            113803  53.1000  C123        S  \n",
      "4      0            373450   8.0500   NaN        S  \n"
     ]
    }
   ],
   "source": [
    "# Load the datasets\n",
    "train_df = pd.read_csv('train.csv')\n",
    "test_df = pd.read_csv('test.csv')\n",
    "\n",
    "print(\"Training data shape:\", train_df.shape)\n",
    "print(\"Test data shape:\", test_df.shape)\n",
    "print(\"\\nFirst few rows of training data:\")\n",
    "print(train_df.head())\n"
   ]
  },
  {
   "cell_type": "code",
   "execution_count": 64,
   "id": "016b734e",
   "metadata": {},
   "outputs": [
    {
     "name": "stdout",
     "output_type": "stream",
     "text": [
      "=== TRAINING DATA INFO ===\n",
      "<class 'pandas.core.frame.DataFrame'>\n",
      "RangeIndex: 891 entries, 0 to 890\n",
      "Data columns (total 12 columns):\n",
      " #   Column       Non-Null Count  Dtype  \n",
      "---  ------       --------------  -----  \n",
      " 0   PassengerId  891 non-null    int64  \n",
      " 1   Survived     891 non-null    int64  \n",
      " 2   Pclass       891 non-null    int64  \n",
      " 3   Name         891 non-null    object \n",
      " 4   Sex          891 non-null    object \n",
      " 5   Age          714 non-null    float64\n",
      " 6   SibSp        891 non-null    int64  \n",
      " 7   Parch        891 non-null    int64  \n",
      " 8   Ticket       891 non-null    object \n",
      " 9   Fare         891 non-null    float64\n",
      " 10  Cabin        204 non-null    object \n",
      " 11  Embarked     889 non-null    object \n",
      "dtypes: float64(2), int64(5), object(5)\n",
      "memory usage: 83.7+ KB\n",
      "None\n",
      "\n",
      "=== MISSING VALUES IN TRAINING DATA ===\n",
      "PassengerId      0\n",
      "Survived         0\n",
      "Pclass           0\n",
      "Name             0\n",
      "Sex              0\n",
      "Age            177\n",
      "SibSp            0\n",
      "Parch            0\n",
      "Ticket           0\n",
      "Fare             0\n",
      "Cabin          687\n",
      "Embarked         2\n",
      "dtype: int64\n",
      "\n",
      "=== TEST DATA INFO ===\n",
      "<class 'pandas.core.frame.DataFrame'>\n",
      "RangeIndex: 418 entries, 0 to 417\n",
      "Data columns (total 11 columns):\n",
      " #   Column       Non-Null Count  Dtype  \n",
      "---  ------       --------------  -----  \n",
      " 0   PassengerId  418 non-null    int64  \n",
      " 1   Pclass       418 non-null    int64  \n",
      " 2   Name         418 non-null    object \n",
      " 3   Sex          418 non-null    object \n",
      " 4   Age          332 non-null    float64\n",
      " 5   SibSp        418 non-null    int64  \n",
      " 6   Parch        418 non-null    int64  \n",
      " 7   Ticket       418 non-null    object \n",
      " 8   Fare         417 non-null    float64\n",
      " 9   Cabin        91 non-null     object \n",
      " 10  Embarked     418 non-null    object \n",
      "dtypes: float64(2), int64(4), object(5)\n",
      "memory usage: 36.0+ KB\n",
      "None\n",
      "\n",
      "=== MISSING VALUES IN TEST DATA ===\n",
      "PassengerId      0\n",
      "Pclass           0\n",
      "Name             0\n",
      "Sex              0\n",
      "Age             86\n",
      "SibSp            0\n",
      "Parch            0\n",
      "Ticket           0\n",
      "Fare             1\n",
      "Cabin          327\n",
      "Embarked         0\n",
      "dtype: int64\n",
      "\n",
      "=== SURVIVAL STATISTICS ===\n",
      "Survival rate: 38.38%\n",
      "Survived\n",
      "0    549\n",
      "1    342\n",
      "Name: count, dtype: int64\n"
     ]
    }
   ],
   "source": [
    "# Examine data info and missing values\n",
    "print(\"=== TRAINING DATA INFO ===\")\n",
    "print(train_df.info())\n",
    "print(\"\\n=== MISSING VALUES IN TRAINING DATA ===\")\n",
    "print(train_df.isnull().sum())\n",
    "\n",
    "print(\"\\n=== TEST DATA INFO ===\")\n",
    "print(test_df.info())\n",
    "print(\"\\n=== MISSING VALUES IN TEST DATA ===\")\n",
    "print(test_df.isnull().sum())\n",
    "\n",
    "print(\"\\n=== SURVIVAL STATISTICS ===\")\n",
    "print(f\"Survival rate: {train_df['Survived'].mean():.2%}\")\n",
    "print(train_df['Survived'].value_counts())\n"
   ]
  },
  {
   "cell_type": "code",
   "execution_count": 65,
   "id": "646884de",
   "metadata": {},
   "outputs": [
    {
     "data": {
      "image/png": "[encoded data removed]",
      "text/plain": [
       "<Figure size 1500x1200 with 4 Axes>"
      ]
     },
     "metadata": {},
     "output_type": "display_data"
    }
   ],
   "source": [
    "# Visualize survival by key features\n",
    "fig, axes = plt.subplots(2, 2, figsize=(15, 12))\n",
    "\n",
    "# Survival by Sex\n",
    "train_df.groupby('Sex')['Survived'].mean().plot(kind='bar', ax=axes[0,0], title='Survival Rate by Sex')\n",
    "axes[0,0].set_ylabel('Survival Rate')\n",
    "axes[0,0].tick_params(axis='x', rotation=0)\n",
    "\n",
    "# Survival by Passenger Class\n",
    "train_df.groupby('Pclass')['Survived'].mean().plot(kind='bar', ax=axes[0,1], title='Survival Rate by Passenger Class')\n",
    "axes[0,1].set_ylabel('Survival Rate')\n",
    "axes[0,1].tick_params(axis='x', rotation=0)\n",
    "\n",
    "# Age distribution by survival\n",
    "train_df[train_df['Survived']==1]['Age'].hist(bins=30, alpha=0.7, label='Survived', ax=axes[1,0])\n",
    "train_df[train_df['Survived']==0]['Age'].hist(bins=30, alpha=0.7, label='Not Survived', ax=axes[1,0])\n",
    "axes[1,0].set_title('Age Distribution by Survival')\n",
    "axes[1,0].set_xlabel('Age')\n",
    "axes[1,0].set_ylabel('Count')\n",
    "axes[1,0].legend()\n",
    "\n",
    "# Survival by Embarked\n",
    "train_df.groupby('Embarked')['Survived'].mean().plot(kind='bar', ax=axes[1,1], title='Survival Rate by Embarked')\n",
    "axes[1,1].set_ylabel('Survival Rate')\n",
    "axes[1,1].tick_params(axis='x', rotation=0)\n",
    "\n",
    "plt.tight_layout()\n",
    "plt.show()\n"
   ]
  },
  {
   "cell_type": "raw",
   "metadata": {
    "vscode": {
     "languageId": "raw"
    }
   },
   "source": [
    "## 2. Data Preprocessing and Feature Engineering\n"
   ]
  },
  {
   "cell_type": "code",
   "execution_count": 66,
   "id": "747d0adf",
   "metadata": {},
   "outputs": [
    {
     "name": "stdout",
     "output_type": "stream",
     "text": [
      "Preprocessing completed!\n",
      "Missing values after preprocessing:\n",
      "PassengerId          0\n",
      "Survived           418\n",
      "Pclass               0\n",
      "Name                 0\n",
      "Sex                  0\n",
      "Age                  0\n",
      "SibSp                0\n",
      "Parch                0\n",
      "Ticket               0\n",
      "Fare                 0\n",
      "Cabin             1014\n",
      "Embarked             0\n",
      "FamilySize           0\n",
      "IsAlone              0\n",
      "IsChild              0\n",
      "IsWomanOrChild       0\n",
      "Title                0\n",
      "AgeGroup             0\n",
      "FareGroup            0\n",
      "dtype: int64\n"
     ]
    }
   ],
   "source": [
    "# Combine train and test for consistent preprocessing\n",
    "all_data = pd.concat([train_df, test_df], ignore_index=True, sort=False)\n",
    "\n",
    "# Feature engineering function\n",
    "def preprocess_data(df):\n",
    "    # Create a copy\n",
    "    data = df.copy()\n",
    "    \n",
    "    # 1. Handle missing values\n",
    "    # Age: Fill with median by Pclass and Sex\n",
    "    data['Age'] = data.groupby(['Pclass', 'Sex'])['Age'].transform(lambda x: x.fillna(x.median()))\n",
    "    \n",
    "    # Embarked: Fill with mode\n",
    "    data['Embarked'] = data['Embarked'].fillna(data['Embarked'].mode()[0])\n",
    "    \n",
    "    # Fare: Fill with median by Pclass\n",
    "    data['Fare'] = data.groupby('Pclass')['Fare'].transform(lambda x: x.fillna(x.median()))\n",
    "    \n",
    "    # 2. Feature Engineering\n",
    "    # Family size\n",
    "    data['FamilySize'] = data['SibSp'] + data['Parch'] + 1\n",
    "    \n",
    "    # Is alone\n",
    "    data['IsAlone'] = (data['FamilySize'] == 1).astype(int)\n",
    "    data['IsChild'] = (data['Age'] < 16).astype(int)\n",
    "    data['IsWomanOrChild'] = (data['Sex'] == 'female') | (data['Age'] < 16).astype(int)\n",
    "    \n",
    "    # Extract title from name\n",
    "    data['Title'] = data['Name'].str.extract(' ([A-Za-z]+)\\.', expand=False)\n",
    "    \n",
    "    # Group rare titles\n",
    "    title_mapping = {\n",
    "        'Mr': 'Mr', 'Miss': 'Miss', 'Mrs': 'Mrs', 'Master': 'Master',\n",
    "        'Dr': 'Rare', 'Rev': 'Rare', 'Col': 'Rare', 'Major': 'Rare',\n",
    "        'Mlle': 'Miss', 'Countess': 'Rare', 'Ms': 'Miss', 'Lady': 'Rare',\n",
    "        'Jonkheer': 'Rare', 'Don': 'Rare', 'Dona': 'Rare', 'Mme': 'Mrs',\n",
    "        'Capt': 'Rare', 'Sir': 'Rare'\n",
    "    }\n",
    "    data['Title'] = data['Title'].map(title_mapping).fillna('Rare')\n",
    "    \n",
    "    # Age groups\n",
    "    data['AgeGroup'] = pd.cut(data['Age'], bins=[0, 12, 18, 35, 60, 100], \n",
    "                             labels=['Child', 'Teen', 'Adult', 'Middle', 'Senior'])\n",
    "    \n",
    "    # Fare groups\n",
    "    data['FareGroup'] = pd.qcut(data['Fare'].fillna(data['Fare'].median()), q=4, \n",
    "                               labels=['Low', 'Medium', 'High', 'VeryHigh'])\n",
    "    \n",
    "    \n",
    "    return data\n",
    "\n",
    "# Apply preprocessing\n",
    "processed_data = preprocess_data(all_data)\n",
    "print(\"Preprocessing completed!\")\n",
    "print(\"Missing values after preprocessing:\")\n",
    "print(processed_data.isnull().sum())\n"
   ]
  },
  {
   "cell_type": "code",
   "execution_count": 67,
   "id": "bb6ef096",
   "metadata": {},
   "outputs": [
    {
     "name": "stdout",
     "output_type": "stream",
     "text": [
      "Training features shape: (891, 14)\n",
      "Test features shape: (418, 14)\n",
      "Training target shape: (891,)\n",
      "\n",
      "Feature correlation with survival:\n",
      "IsWomanOrChild    0.557080\n",
      "Sex               0.543351\n",
      "Pclass            0.338481\n",
      "Fare              0.257307\n",
      "IsAlone           0.203367\n",
      "Embarked          0.167675\n",
      "IsChild           0.136107\n",
      "FareGroup         0.127907\n",
      "Parch             0.081629\n",
      "Title             0.071174\n",
      "Age               0.058635\n",
      "AgeGroup          0.048855\n",
      "SibSp             0.035322\n",
      "FamilySize        0.016639\n",
      "dtype: float64\n"
     ]
    }
   ],
   "source": [
    "# Encode categorical variables and select features\n",
    "def prepare_features(data):\n",
    "    # Select features for modeling\n",
    "    features = ['Pclass', 'Sex', 'Age', 'SibSp', 'Parch', 'Fare', 'Embarked', \n",
    "                'FamilySize', 'IsAlone', 'Title', 'AgeGroup', 'FareGroup',\n",
    "                'IsChild', 'IsWomanOrChild']\n",
    "    \n",
    "    X = data[features].copy()\n",
    "    \n",
    "    # Encode categorical variables\n",
    "    le = LabelEncoder()\n",
    "    categorical_columns = ['Sex', 'Embarked', 'Title', 'AgeGroup', 'FareGroup']\n",
    "    \n",
    "    for col in categorical_columns:\n",
    "        X[col] = le.fit_transform(X[col].astype(str))\n",
    "    \n",
    "    return X\n",
    "\n",
    "# Prepare features\n",
    "X_all = prepare_features(processed_data)\n",
    "\n",
    "# Split back into train and test\n",
    "train_size = len(train_df)\n",
    "X_train = X_all[:train_size]\n",
    "X_test = X_all[train_size:]\n",
    "y_train = train_df['Survived']\n",
    "\n",
    "print(f\"Training features shape: {X_train.shape}\")\n",
    "print(f\"Test features shape: {X_test.shape}\")\n",
    "print(f\"Training target shape: {y_train.shape}\")\n",
    "\n",
    "# Display feature correlation with survival\n",
    "feature_importance = X_train.corrwith(y_train).abs().sort_values(ascending=False)\n",
    "print(\"\\nFeature correlation with survival:\")\n",
    "print(feature_importance)\n"
   ]
  },
  {
   "cell_type": "raw",
   "metadata": {
    "vscode": {
     "languageId": "raw"
    }
   },
   "source": [
    "## 3. Model Training and Evaluation\n"
   ]
  },
  {
   "cell_type": "code",
   "execution_count": 68,
   "id": "05b44131",
   "metadata": {},
   "outputs": [
    {
     "name": "stdout",
     "output_type": "stream",
     "text": [
      "Model Performance (Cross-Validation):\n",
      "==================================================\n",
      "Random Forest:\n",
      "  CV Score: 0.8047 (+/- 0.0543)\n",
      "  Validation Accuracy: 0.9888\n",
      "\n",
      "Gradient Boosting:\n",
      "  CV Score: 0.8283 (+/- 0.0400)\n",
      "  Validation Accuracy: 0.9106\n",
      "\n",
      "Logistic Regression:\n",
      "  CV Score: 0.8227 (+/- 0.0374)\n",
      "  Validation Accuracy: 0.8380\n",
      "\n",
      "Best Model: Gradient Boosting with CV score: 0.8283\n"
     ]
    }
   ],
   "source": [
    "# Split training data for validation\n",
    "X_train_split, X_val_split, y_train_split, y_val_split = train_test_split(\n",
    "    X_train, y_train, test_size=0.2, random_state=42, stratify=y_train\n",
    ")\n",
    "\n",
    "# Initialize models\n",
    "models = {\n",
    "    'Random Forest': RandomForestClassifier(n_estimators=100, random_state=42),\n",
    "    'Gradient Boosting': GradientBoostingClassifier(n_estimators=100, random_state=42),\n",
    "    'Logistic Regression': LogisticRegression(random_state=42, max_iter=1000)\n",
    "}\n",
    "\n",
    "# Train and evaluate models\n",
    "model_scores = {}\n",
    "trained_models = {}\n",
    "\n",
    "print(\"Model Performance (Cross-Validation):\")\n",
    "print(\"=\" * 50)\n",
    "\n",
    "for name, model in models.items():\n",
    "    # Cross-validation\n",
    "    cv_scores = cross_val_score(model, X_train, y_train, cv=5, scoring='accuracy')\n",
    "    model_scores[name] = cv_scores.mean()\n",
    "    \n",
    "    # Train on full training set\n",
    "    model.fit(X_train, y_train)\n",
    "    trained_models[name] = model\n",
    "    \n",
    "    # Validation score\n",
    "    val_pred = model.predict(X_val_split)\n",
    "    val_accuracy = accuracy_score(y_val_split, val_pred)\n",
    "    \n",
    "    print(f\"{name}:\")\n",
    "    print(f\"  CV Score: {cv_scores.mean():.4f} (+/- {cv_scores.std() * 2:.4f})\")\n",
    "    print(f\"  Validation Accuracy: {val_accuracy:.4f}\")\n",
    "    print()\n",
    "\n",
    "# Select best model\n",
    "best_model_name = max(model_scores, key=model_scores.get)\n",
    "best_model = trained_models[best_model_name]\n",
    "\n",
    "print(f\"Best Model: {best_model_name} with CV score: {model_scores[best_model_name]:.4f}\")\n"
   ]
  },
  {
   "cell_type": "code",
   "execution_count": 69,
   "id": "a36a1867",
   "metadata": {},
   "outputs": [
    {
     "name": "stdout",
     "output_type": "stream",
     "text": [
      "Performing hyperparameter tuning for Random Forest...\n",
      "Best Random Forest parameters: {'max_depth': None, 'min_samples_leaf': 2, 'min_samples_split': 2, 'n_estimators': 200}\n",
      "Best Random Forest CV score: 0.8350\n",
      "\n",
      "Top 10 Feature Importances:\n",
      "           feature  importance\n",
      "13  IsWomanOrChild    0.175183\n",
      "5             Fare    0.160346\n",
      "1              Sex    0.154000\n",
      "2              Age    0.121490\n",
      "0           Pclass    0.091931\n",
      "9            Title    0.083940\n",
      "7       FamilySize    0.058190\n",
      "11       FareGroup    0.039783\n",
      "3            SibSp    0.031341\n",
      "6         Embarked    0.025170\n"
     ]
    },
    {
     "data": {
      "image/png": "[encoded data removed]",
      "text/plain": [
       "<Figure size 1000x600 with 1 Axes>"
      ]
     },
     "metadata": {},
     "output_type": "display_data"
    }
   ],
   "source": [
    "# Hyperparameter tuning for Random Forest (typically performs well on this dataset)\n",
    "rf_params = {\n",
    "    'n_estimators': [100, 200, 300],\n",
    "    'max_depth': [3, 5, 7, None],\n",
    "    'min_samples_split': [2, 5, 10],\n",
    "    'min_samples_leaf': [1, 2, 4]\n",
    "}\n",
    "\n",
    "print(\"Performing hyperparameter tuning for Random Forest...\")\n",
    "rf_grid = GridSearchCV(\n",
    "    RandomForestClassifier(random_state=42),\n",
    "    rf_params,\n",
    "    cv=5,\n",
    "    scoring='accuracy',\n",
    "    n_jobs=-1,\n",
    "    verbose=0\n",
    ")\n",
    "\n",
    "rf_grid.fit(X_train, y_train)\n",
    "best_rf = rf_grid.best_estimator_\n",
    "\n",
    "print(f\"Best Random Forest parameters: {rf_grid.best_params_}\")\n",
    "print(f\"Best Random Forest CV score: {rf_grid.best_score_:.4f}\")\n",
    "\n",
    "# Feature importance analysis\n",
    "if hasattr(best_rf, 'feature_importances_'):\n",
    "    feature_names = X_train.columns\n",
    "    importance_df = pd.DataFrame({\n",
    "        'feature': feature_names,\n",
    "        'importance': best_rf.feature_importances_\n",
    "    }).sort_values('importance', ascending=False)\n",
    "    \n",
    "    print(\"\\nTop 10 Feature Importances:\")\n",
    "    print(importance_df.head(10))\n",
    "    \n",
    "    # Plot feature importance\n",
    "    plt.figure(figsize=(10, 6))\n",
    "    plt.barh(range(len(importance_df)), importance_df['importance'])\n",
    "    plt.yticks(range(len(importance_df)), importance_df['feature'])\n",
    "    plt.xlabel('Feature Importance')\n",
    "    plt.title('Feature Importance from Random Forest')\n",
    "    plt.gca().invert_yaxis()\n",
    "    plt.tight_layout()\n",
    "    plt.show()\n"
   ]
  },
  {
   "cell_type": "raw",
   "metadata": {
    "vscode": {
     "languageId": "raw"
    }
   },
   "source": [
    "## 4. Predictions and Submission\n"
   ]
  },
  {
   "cell_type": "code",
   "execution_count": 70,
   "id": "cf8fb75c",
   "metadata": {},
   "outputs": [
    {
     "name": "stdout",
     "output_type": "stream",
     "text": [
      "Prediction distribution:\n",
      "Survived\n",
      "0    275\n",
      "1    143\n",
      "Name: count, dtype: int64\n",
      "Predicted survival rate: 34.21%\n",
      "\n",
      "Submission file 'titanic_submission.csv' created successfully!\n",
      "\n",
      "First 10 predictions:\n",
      "   PassengerId  Survived\n",
      "0          892         0\n",
      "1          893         0\n",
      "2          894         0\n",
      "3          895         0\n",
      "4          896         1\n",
      "5          897         0\n",
      "6          898         0\n",
      "7          899         0\n",
      "8          900         1\n",
      "9          901         0\n"
     ]
    }
   ],
   "source": [
    "# ENSEMBLE: Combine predictions from all trained models\n",
    "from sklearn.ensemble import VotingClassifier\n",
    "\n",
    "# Create ensemble from your existing trained models\n",
    "ensemble = VotingClassifier([\n",
    "    ('rf', best_rf),\n",
    "    ('gb', trained_models['Gradient Boosting']),\n",
    "    ('lr', trained_models['Logistic Regression'])\n",
    "], voting='soft')\n",
    "\n",
    "# Fit ensemble\n",
    "ensemble.fit(X_train, y_train)\n",
    "test_predictions = ensemble.predict(X_test)\n",
    "\n",
    "# Create submission dataframe\n",
    "submission = pd.DataFrame({\n",
    "    'PassengerId': test_df['PassengerId'],\n",
    "    'Survived': test_predictions\n",
    "})\n",
    "\n",
    "print(\"Prediction distribution:\")\n",
    "print(submission['Survived'].value_counts())\n",
    "print(f\"Predicted survival rate: {submission['Survived'].mean():.2%}\")\n",
    "\n",
    "# Save submission file\n",
    "submission.to_csv('titanic_submission.csv', index=False)\n",
    "print(\"\\nSubmission file 'titanic_submission.csv' created successfully!\")\n",
    "\n",
    "# Display first few predictions\n",
    "print(\"\\nFirst 10 predictions:\")\n",
    "print(submission.head(10))\n"
   ]
  },
  {
   "cell_type": "raw",
   "metadata": {
    "vscode": {
     "languageId": "raw"
    }
   },
   "source": [
    "## 5. Summary\n",
    "\n",
    "### Key Findings:\n",
    "1. **Gender** was the most important predictor - women had much higher survival rates\n",
    "2. **Passenger Class** was crucial - higher class passengers survived more often  \n",
    "3. **Age** and **Family Size** also played significant roles\n",
    "4. **Feature Engineering** improved model performance through title extraction and family size calculations\n",
    "\n",
    "### Model Performance:\n",
    "- Tested multiple algorithms: Random Forest, Gradient Boosting, and Logistic Regression\n",
    "- Used cross-validation and hyperparameter tuning for optimal results\n",
    "- Generated predictions for all 418 test passengers\n",
    "\n",
    "### Output:\n",
    "- **titanic_submission.csv** contains PassengerId and Survived predictions ready for submission\n",
    "- The model provides interpretable results with feature importance analysis\n"
   ]
  }
 ],
 "metadata": {
  "kernelspec": {
   "display_name": "titanic-SA5bcgBn-py3.9",
   "language": "python",
   "name": "python3"
  },
  "language_info": {
   "codemirror_mode": {
    "name": "ipython",
    "version": 3
   },
   "file_extension": ".py",
   "mimetype": "text/x-python",
   "name": "python",
   "nbconvert_exporter": "python",
   "pygments_lexer": "ipython3",
   "version": "3.9.12"
  }
 },
 "nbformat": 4,
 "nbformat_minor": 5
}
