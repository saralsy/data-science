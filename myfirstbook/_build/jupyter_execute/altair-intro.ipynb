{
 "cells": [
  {
   "cell_type": "markdown",
   "metadata": {},
   "source": [
    "# Altair Intro"
   ]
  },
  {
   "cell_type": "code",
   "execution_count": 1,
   "metadata": {},
   "outputs": [
    {
     "name": "stdout",
     "output_type": "stream",
     "text": [
      "Requirement already satisfied: altair in /Users/saraliu/Library/Caches/pypoetry/virtualenvs/titanic-SA5bcgBn-py3.9/lib/python3.9/site-packages (5.4.1)\r\n",
      "Requirement already satisfied: vega_datasets in /Users/saraliu/Library/Caches/pypoetry/virtualenvs/titanic-SA5bcgBn-py3.9/lib/python3.9/site-packages (0.9.0)\r\n",
      "Requirement already satisfied: jinja2 in /Users/saraliu/Library/Caches/pypoetry/virtualenvs/titanic-SA5bcgBn-py3.9/lib/python3.9/site-packages (from altair) (3.1.4)\r\n",
      "Requirement already satisfied: jsonschema>=3.0 in /Users/saraliu/Library/Caches/pypoetry/virtualenvs/titanic-SA5bcgBn-py3.9/lib/python3.9/site-packages (from altair) (4.23.0)\r\n",
      "Requirement already satisfied: narwhals>=1.5.2 in /Users/saraliu/Library/Caches/pypoetry/virtualenvs/titanic-SA5bcgBn-py3.9/lib/python3.9/site-packages (from altair) (1.6.2)\r\n",
      "Requirement already satisfied: packaging in /Users/saraliu/Library/Caches/pypoetry/virtualenvs/titanic-SA5bcgBn-py3.9/lib/python3.9/site-packages (from altair) (24.1)\r\n",
      "Requirement already satisfied: typing-extensions>=4.10.0 in /Users/saraliu/Library/Caches/pypoetry/virtualenvs/titanic-SA5bcgBn-py3.9/lib/python3.9/site-packages (from altair) (4.12.2)\r\n",
      "Requirement already satisfied: pandas in /Users/saraliu/Library/Caches/pypoetry/virtualenvs/titanic-SA5bcgBn-py3.9/lib/python3.9/site-packages (from vega_datasets) (2.2.2)\r\n",
      "Requirement already satisfied: attrs>=22.2.0 in /Users/saraliu/Library/Caches/pypoetry/virtualenvs/titanic-SA5bcgBn-py3.9/lib/python3.9/site-packages (from jsonschema>=3.0->altair) (24.2.0)\r\n",
      "Requirement already satisfied: jsonschema-specifications>=2023.03.6 in /Users/saraliu/Library/Caches/pypoetry/virtualenvs/titanic-SA5bcgBn-py3.9/lib/python3.9/site-packages (from jsonschema>=3.0->altair) (2023.12.1)\r\n",
      "Requirement already satisfied: referencing>=0.28.4 in /Users/saraliu/Library/Caches/pypoetry/virtualenvs/titanic-SA5bcgBn-py3.9/lib/python3.9/site-packages (from jsonschema>=3.0->altair) (0.35.1)\r\n",
      "Requirement already satisfied: rpds-py>=0.7.1 in /Users/saraliu/Library/Caches/pypoetry/virtualenvs/titanic-SA5bcgBn-py3.9/lib/python3.9/site-packages (from jsonschema>=3.0->altair) (0.20.0)\r\n",
      "Requirement already satisfied: MarkupSafe>=2.0 in /Users/saraliu/Library/Caches/pypoetry/virtualenvs/titanic-SA5bcgBn-py3.9/lib/python3.9/site-packages (from jinja2->altair) (2.1.5)\r\n"
     ]
    },
    {
     "name": "stdout",
     "output_type": "stream",
     "text": [
      "Requirement already satisfied: numpy>=1.22.4 in /Users/saraliu/Library/Caches/pypoetry/virtualenvs/titanic-SA5bcgBn-py3.9/lib/python3.9/site-packages (from pandas->vega_datasets) (2.0.2)\r\n",
      "Requirement already satisfied: python-dateutil>=2.8.2 in /Users/saraliu/Library/Caches/pypoetry/virtualenvs/titanic-SA5bcgBn-py3.9/lib/python3.9/site-packages (from pandas->vega_datasets) (2.9.0.post0)\r\n",
      "Requirement already satisfied: pytz>=2020.1 in /Users/saraliu/Library/Caches/pypoetry/virtualenvs/titanic-SA5bcgBn-py3.9/lib/python3.9/site-packages (from pandas->vega_datasets) (2024.1)\r\n",
      "Requirement already satisfied: tzdata>=2022.7 in /Users/saraliu/Library/Caches/pypoetry/virtualenvs/titanic-SA5bcgBn-py3.9/lib/python3.9/site-packages (from pandas->vega_datasets) (2024.1)\r\n",
      "Requirement already satisfied: six>=1.5 in /Users/saraliu/Library/Caches/pypoetry/virtualenvs/titanic-SA5bcgBn-py3.9/lib/python3.9/site-packages (from python-dateutil>=2.8.2->pandas->vega_datasets) (1.16.0)\r\n"
     ]
    },
    {
     "name": "stdout",
     "output_type": "stream",
     "text": [
      "\r\n",
      "\u001b[1m[\u001b[0m\u001b[34;49mnotice\u001b[0m\u001b[1;39;49m]\u001b[0m\u001b[39;49m A new release of pip is available: \u001b[0m\u001b[31;49m24.1\u001b[0m\u001b[39;49m -> \u001b[0m\u001b[32;49m24.2\u001b[0m\r\n",
      "\u001b[1m[\u001b[0m\u001b[34;49mnotice\u001b[0m\u001b[1;39;49m]\u001b[0m\u001b[39;49m To update, run: \u001b[0m\u001b[32;49mpip install --upgrade pip\u001b[0m\r\n"
     ]
    }
   ],
   "source": [
    "!pip install altair vega_datasets"
   ]
  },
  {
   "cell_type": "code",
   "execution_count": 2,
   "metadata": {},
   "outputs": [
    {
     "data": {
      "text/html": [
       "\n",
       "<style>\n",
       "  #altair-viz-f24e363a9265467d941ed5b2d2410d73.vega-embed {\n",
       "    width: 100%;\n",
       "    display: flex;\n",
       "  }\n",
       "\n",
       "  #altair-viz-f24e363a9265467d941ed5b2d2410d73.vega-embed details,\n",
       "  #altair-viz-f24e363a9265467d941ed5b2d2410d73.vega-embed details summary {\n",
       "    position: relative;\n",
       "  }\n",
       "</style>\n",
       "<div id=\"altair-viz-f24e363a9265467d941ed5b2d2410d73\"></div>\n",
       "<script type=\"text/javascript\">\n",
       "  var VEGA_DEBUG = (typeof VEGA_DEBUG == \"undefined\") ? {} : VEGA_DEBUG;\n",
       "  (function(spec, embedOpt){\n",
       "    let outputDiv = document.currentScript.previousElementSibling;\n",
       "    if (outputDiv.id !== \"altair-viz-f24e363a9265467d941ed5b2d2410d73\") {\n",
       "      outputDiv = document.getElementById(\"altair-viz-f24e363a9265467d941ed5b2d2410d73\");\n",
       "    }\n",
       "    const paths = {\n",
       "      \"vega\": \"https://cdn.jsdelivr.net/npm/vega@5?noext\",\n",
       "      \"vega-lib\": \"https://cdn.jsdelivr.net/npm/vega-lib?noext\",\n",
       "      \"vega-lite\": \"https://cdn.jsdelivr.net/npm/vega-lite@5.20.1?noext\",\n",
       "      \"vega-embed\": \"https://cdn.jsdelivr.net/npm/vega-embed@6?noext\",\n",
       "    };\n",
       "\n",
       "    function maybeLoadScript(lib, version) {\n",
       "      var key = `${lib.replace(\"-\", \"\")}_version`;\n",
       "      return (VEGA_DEBUG[key] == version) ?\n",
       "        Promise.resolve(paths[lib]) :\n",
       "        new Promise(function(resolve, reject) {\n",
       "          var s = document.createElement('script');\n",
       "          document.getElementsByTagName(\"head\")[0].appendChild(s);\n",
       "          s.async = true;\n",
       "          s.onload = () => {\n",
       "            VEGA_DEBUG[key] = version;\n",
       "            return resolve(paths[lib]);\n",
       "          };\n",
       "          s.onerror = () => reject(`Error loading script: ${paths[lib]}`);\n",
       "          s.src = paths[lib];\n",
       "        });\n",
       "    }\n",
       "\n",
       "    function showError(err) {\n",
       "      outputDiv.innerHTML = `<div class=\"error\" style=\"color:red;\">${err}</div>`;\n",
       "      throw err;\n",
       "    }\n",
       "\n",
       "    function displayChart(vegaEmbed) {\n",
       "      vegaEmbed(outputDiv, spec, embedOpt)\n",
       "        .catch(err => showError(`Javascript Error: ${err.message}<br>This usually means there's a typo in your chart specification. See the javascript console for the full traceback.`));\n",
       "    }\n",
       "\n",
       "    if(typeof define === \"function\" && define.amd) {\n",
       "      requirejs.config({paths});\n",
       "      require([\"vega-embed\"], displayChart, err => showError(`Error loading script: ${err.message}`));\n",
       "    } else {\n",
       "      maybeLoadScript(\"vega\", \"5\")\n",
       "        .then(() => maybeLoadScript(\"vega-lite\", \"5.20.1\"))\n",
       "        .then(() => maybeLoadScript(\"vega-embed\", \"6\"))\n",
       "        .catch(showError)\n",
       "        .then(() => displayChart(vegaEmbed));\n",
       "    }\n",
       "  })({\"config\": {\"view\": {\"continuousWidth\": 300, \"continuousHeight\": 300, \"stroke\": null}, \"axisX\": {\"grid\": false}, \"axisY\": {\"domain\": false, \"offset\": 10, \"ticks\": false}}, \"data\": {\"url\": \"https://cdn.jsdelivr.net/npm/vega-datasets@v1.29.0/data/disasters.csv\"}, \"mark\": {\"type\": \"circle\", \"opacity\": 0.8, \"stroke\": \"black\", \"strokeOpacity\": 0.4, \"strokeWidth\": 1}, \"encoding\": {\"color\": {\"field\": \"Entity\", \"legend\": null, \"type\": \"nominal\"}, \"size\": {\"field\": \"Deaths\", \"legend\": {\"clipHeight\": 30, \"format\": \"s\", \"title\": \"Deaths\"}, \"scale\": {\"range\": [0, 2500]}, \"type\": \"quantitative\"}, \"tooltip\": [{\"field\": \"Entity\", \"type\": \"nominal\"}, {\"field\": \"Year\", \"format\": \"%Y\", \"type\": \"temporal\"}, {\"field\": \"Deaths\", \"format\": \"~s\", \"type\": \"quantitative\"}], \"x\": {\"field\": \"Year\", \"scale\": {\"domain\": [\"1899\", \"2018\"]}, \"title\": null, \"type\": \"temporal\"}, \"y\": {\"field\": \"Entity\", \"sort\": {\"field\": \"Deaths\", \"op\": \"sum\", \"order\": \"descending\"}, \"title\": null, \"type\": \"nominal\"}}, \"height\": 320, \"title\": {\"text\": \"Global Deaths from Natural Disasters (1900-2017)\", \"anchor\": \"start\", \"subtitle\": \"The size of the bubble represents the total death count per year, by type of disaster\"}, \"transform\": [{\"filter\": \"(datum.Entity !== 'All natural disasters')\"}], \"width\": 450, \"$schema\": \"https://vega.github.io/schema/vega-lite/v5.20.1.json\"}, {\"mode\": \"vega-lite\"});\n",
       "</script>"
      ],
      "text/plain": [
       "alt.Chart(...)"
      ]
     },
     "execution_count": 2,
     "metadata": {},
     "output_type": "execute_result"
    }
   ],
   "source": [
    "import altair as alt\n",
    "from vega_datasets import data\n",
    "\n",
    "source = data.disasters.url\n",
    "\n",
    "alt.Chart(source).transform_filter(\n",
    "    alt.datum.Entity != 'All natural disasters'\n",
    ").mark_circle(\n",
    "    opacity=0.8,\n",
    "    stroke='black',\n",
    "    strokeWidth=1,\n",
    "    strokeOpacity=0.4\n",
    ").encode(\n",
    "    x=alt.X('Year:T', title=None, scale=alt.Scale(domain=['1899','2018'])),\n",
    "    y=alt.Y(\n",
    "        'Entity:N',\n",
    "        sort=alt.EncodingSortField(field=\"Deaths\", op=\"sum\", order='descending'),\n",
    "        title=None\n",
    "    ),\n",
    "    size=alt.Size('Deaths:Q',\n",
    "        scale=alt.Scale(range=[0, 2500]),\n",
    "        legend=alt.Legend(title='Deaths', clipHeight=30, format='s')\n",
    "    ),\n",
    "    color=alt.Color('Entity:N', legend=None),\n",
    "    tooltip=[\n",
    "        \"Entity:N\",\n",
    "        alt.Tooltip(\"Year:T\", format='%Y'),\n",
    "        alt.Tooltip(\"Deaths:Q\", format='~s')\n",
    "    ],\n",
    ").properties(\n",
    "    width=450,\n",
    "    height=320,\n",
    "    title=alt.Title(\n",
    "        text=\"Global Deaths from Natural Disasters (1900-2017)\",\n",
    "        subtitle=\"The size of the bubble represents the total death count per year, by type of disaster\",\n",
    "        anchor='start'\n",
    "    )\n",
    ").configure_axisY(\n",
    "    domain=False,\n",
    "    ticks=False,\n",
    "    offset=10\n",
    ").configure_axisX(\n",
    "    grid=False,\n",
    ").configure_view(\n",
    "    stroke=None\n",
    ")"
   ]
  },
  {
   "cell_type": "code",
   "execution_count": null,
   "metadata": {},
   "outputs": [],
   "source": []
  }
 ],
 "metadata": {
  "kernelspec": {
   "display_name": "Python 3",
   "language": "python",
   "name": "python3"
  },
  "language_info": {
   "codemirror_mode": {
    "name": "ipython",
    "version": 3
   },
   "file_extension": ".py",
   "mimetype": "text/x-python",
   "name": "python",
   "nbconvert_exporter": "python",
   "pygments_lexer": "ipython3",
   "version": "3.9.12"
  }
 },
 "nbformat": 4,
 "nbformat_minor": 2
}